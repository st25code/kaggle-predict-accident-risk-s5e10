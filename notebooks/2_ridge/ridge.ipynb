{
 "cells": [
  {
   "cell_type": "markdown",
   "id": "b63c1e07",
   "metadata": {},
   "source": [
    "# Ridge Regression — Baseline"
   ]
  },
  {
   "cell_type": "code",
   "execution_count": 1,
   "id": "f9aad1f9",
   "metadata": {},
   "outputs": [],
   "source": [
    "import os, sys, json\n",
    "import numpy as np\n",
    "import pandas as pd\n",
    "from sklearn.linear_model import Ridge\n",
    "from sklearn.pipeline import Pipeline\n",
    "from sklearn.model_selection import cross_val_score\n",
    "\n",
    "# --- Local imports\n",
    "sys.path.append(os.path.abspath(os.path.join('..', '..', 'common')))\n",
    "from prep import (\n",
    "    load_data, infer_target, split_features, make_preprocessor,\n",
    "    holdout_split, eval_regression,\n",
    "    permutation_importance_df, save_json, save_csv_df, save_submission\n",
    ")"
   ]
  },
  {
   "cell_type": "markdown",
   "id": "9245ca39",
   "metadata": {},
   "source": [
    "## 1. Load and prepare data"
   ]
  },
  {
   "cell_type": "code",
   "execution_count": 2,
   "id": "7e344507",
   "metadata": {},
   "outputs": [
    {
     "name": "stdout",
     "output_type": "stream",
     "text": [
      "Train shape: (517754, 13), Test shape: (172585, 13)\n",
      "Target column: accident_risk\n"
     ]
    }
   ],
   "source": [
    "train, test, sample = load_data()\n",
    "target_col = infer_target(train, test)\n",
    "feature_cols, cat_cols, num_cols = split_features(train, target_col)\n",
    "\n",
    "# Split features and target\n",
    "X = train[feature_cols]\n",
    "y = train[target_col].astype(float)\n",
    "X_test = test[feature_cols]\n",
    "\n",
    "print(f\"Train shape: {X.shape}, Test shape: {X_test.shape}\")\n",
    "print(f\"Target column: {target_col}\")"
   ]
  },
  {
   "cell_type": "markdown",
   "id": "d8fe9a56",
   "metadata": {},
   "source": [
    "## 2. Define preprocessing and model pipeline"
   ]
  },
  {
   "cell_type": "code",
   "execution_count": 3,
   "id": "1702835d",
   "metadata": {},
   "outputs": [],
   "source": [
    "# Preprocessing:\n",
    "# - numeric: median imputation + scaling\n",
    "# - categorical: most frequent imputation + OneHotEncoder\n",
    "prep = make_preprocessor(num_cols, cat_cols, scale_numeric=True)\n",
    "\n",
    "# Model: Ridge Regression (linear baseline)\n",
    "model = Ridge(alpha=1.0, random_state=42)\n",
    "\n",
    "# Combine into pipeline\n",
    "pipe = Pipeline([\n",
    "    ('prep', prep),\n",
    "    ('clf', model)\n",
    "])"
   ]
  },
  {
   "cell_type": "markdown",
   "id": "fcc9c0c7",
   "metadata": {},
   "source": [
    "## 3. Holdout validation"
   ]
  },
  {
   "cell_type": "code",
   "execution_count": 4,
   "id": "988655b5",
   "metadata": {},
   "outputs": [
    {
     "name": "stdout",
     "output_type": "stream",
     "text": [
      "Holdout metrics: {'rmse': 0.07353072769066067, 'mae': 0.058312117765281946, 'r2': 0.8041891251770915}\n"
     ]
    }
   ],
   "source": [
    "X_tr, X_va, y_tr, y_va = holdout_split(X, y)\n",
    "\n",
    "# Train model\n",
    "pipe.fit(X_tr, y_tr)\n",
    "\n",
    "# Predict on validation\n",
    "valid_pred = pipe.predict(X_va)\n",
    "\n",
    "# Evaluate metrics\n",
    "metrics = eval_regression(y_va, valid_pred)\n",
    "print(\"Holdout metrics:\", metrics)\n",
    "\n",
    "# Save holdout report\n",
    "save_json(\n",
    "    {\"model\": \"Ridge\", **metrics},\n",
    "    \"../../outputs/holdout_reports/ridge_holdout.json\"\n",
    ")"
   ]
  },
  {
   "cell_type": "markdown",
   "id": "bef7c815",
   "metadata": {},
   "source": [
    "## 4. Permutation Importance"
   ]
  },
  {
   "cell_type": "code",
   "execution_count": 5,
   "id": "cd5a9a3c",
   "metadata": {},
   "outputs": [
    {
     "name": "stdout",
     "output_type": "stream",
     "text": [
      "Top 10 most important features:\n"
     ]
    },
    {
     "data": {
      "text/html": [
       "<div>\n",
       "<style scoped>\n",
       "    .dataframe tbody tr th:only-of-type {\n",
       "        vertical-align: middle;\n",
       "    }\n",
       "\n",
       "    .dataframe tbody tr th {\n",
       "        vertical-align: top;\n",
       "    }\n",
       "\n",
       "    .dataframe thead th {\n",
       "        text-align: right;\n",
       "    }\n",
       "</style>\n",
       "<table border=\"1\" class=\"dataframe\">\n",
       "  <thead>\n",
       "    <tr style=\"text-align: right;\">\n",
       "      <th></th>\n",
       "      <th>feature</th>\n",
       "      <th>perm_importance_rmse</th>\n",
       "    </tr>\n",
       "  </thead>\n",
       "  <tbody>\n",
       "    <tr>\n",
       "      <th>0</th>\n",
       "      <td>speed_limit</td>\n",
       "      <td>7.190653e-02</td>\n",
       "    </tr>\n",
       "    <tr>\n",
       "      <th>1</th>\n",
       "      <td>public_road</td>\n",
       "      <td>6.842494e-02</td>\n",
       "    </tr>\n",
       "    <tr>\n",
       "      <th>2</th>\n",
       "      <td>road_signs_present</td>\n",
       "      <td>6.194028e-02</td>\n",
       "    </tr>\n",
       "    <tr>\n",
       "      <th>3</th>\n",
       "      <td>holiday</td>\n",
       "      <td>2.268653e-02</td>\n",
       "    </tr>\n",
       "    <tr>\n",
       "      <th>4</th>\n",
       "      <td>lighting=daylight</td>\n",
       "      <td>2.666322e-03</td>\n",
       "    </tr>\n",
       "    <tr>\n",
       "      <th>5</th>\n",
       "      <td>road_type=highway</td>\n",
       "      <td>1.055530e-05</td>\n",
       "    </tr>\n",
       "    <tr>\n",
       "      <th>6</th>\n",
       "      <td>curvature</td>\n",
       "      <td>5.310029e-06</td>\n",
       "    </tr>\n",
       "    <tr>\n",
       "      <th>7</th>\n",
       "      <td>school_season</td>\n",
       "      <td>2.409153e-06</td>\n",
       "    </tr>\n",
       "    <tr>\n",
       "      <th>8</th>\n",
       "      <td>num_reported_accidents</td>\n",
       "      <td>2.086459e-06</td>\n",
       "    </tr>\n",
       "    <tr>\n",
       "      <th>9</th>\n",
       "      <td>road_type=urban</td>\n",
       "      <td>5.243514e-07</td>\n",
       "    </tr>\n",
       "  </tbody>\n",
       "</table>\n",
       "</div>"
      ],
      "text/plain": [
       "                  feature  perm_importance_rmse\n",
       "0             speed_limit          7.190653e-02\n",
       "1             public_road          6.842494e-02\n",
       "2      road_signs_present          6.194028e-02\n",
       "3                 holiday          2.268653e-02\n",
       "4       lighting=daylight          2.666322e-03\n",
       "5       road_type=highway          1.055530e-05\n",
       "6               curvature          5.310029e-06\n",
       "7           school_season          2.409153e-06\n",
       "8  num_reported_accidents          2.086459e-06\n",
       "9         road_type=urban          5.243514e-07"
      ]
     },
     "metadata": {},
     "output_type": "display_data"
    }
   ],
   "source": [
    "# Check which features most affect RMSE\n",
    "imp_df = permutation_importance_df(pipe, X_va, y_va, num_cols, cat_cols, n_repeats=5)\n",
    "save_csv_df(imp_df, \"../../outputs/feature_importance/ridge_perm_importance.csv\")\n",
    "\n",
    "print(\"Top 10 most important features:\")\n",
    "display(imp_df.head(10))"
   ]
  },
  {
   "cell_type": "markdown",
   "id": "306cba33",
   "metadata": {},
   "source": [
    "## 5. Final model training and submission"
   ]
  },
  {
   "cell_type": "code",
   "execution_count": 6,
   "id": "3c6eff44",
   "metadata": {},
   "outputs": [
    {
     "name": "stdout",
     "output_type": "stream",
     "text": [
      "Saved submission file to: ../../outputs/submissions/ridge.csv\n"
     ]
    }
   ],
   "source": [
    "# Fit on all data\n",
    "pipe.fit(X, y)\n",
    "\n",
    "# Predict on test set\n",
    "test_pred = pipe.predict(X_test)\n",
    "\n",
    "# Create submission file (values clipped to [0,1])\n",
    "out_path = save_submission(sample, test_pred, out_name=\"ridge.csv\")\n",
    "print(\"Saved submission file to:\", out_path)"
   ]
  },
  {
   "cell_type": "markdown",
   "id": "4a7a870c",
   "metadata": {},
   "source": [
    "### 🧾 Summary\n",
    "\n",
    "- **Model:** Ridge Regression  \n",
    "- **Holdout metrics:**  \n",
    "  - RMSE = **0.0735**  \n",
    "  - MAE = **0.0583**  \n",
    "  - R² = **0.8042**\n",
    "\n",
    "The average deviation between predicted and actual accident risk is around **7%**,  \n",
    "which is a solid result for a simple linear baseline model.  \n",
    "\n",
    "However, we aim to further improve model performance  \n",
    "by introducing more flexible algorithms such as **Random Forest Regressor** and **HistGradientBoosting Regressor**,  \n",
    "which are capable of capturing nonlinear relationships between features and accident risk.\n"
   ]
  }
 ],
 "metadata": {
  "kernelspec": {
   "display_name": "Python 3",
   "language": "python",
   "name": "python3"
  },
  "language_info": {
   "codemirror_mode": {
    "name": "ipython",
    "version": 3
   },
   "file_extension": ".py",
   "mimetype": "text/x-python",
   "name": "python",
   "nbconvert_exporter": "python",
   "pygments_lexer": "ipython3",
   "version": "3.13.4"
  }
 },
 "nbformat": 4,
 "nbformat_minor": 5
}
